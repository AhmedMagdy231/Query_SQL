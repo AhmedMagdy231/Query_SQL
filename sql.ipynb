{
 "cells": [
  {
   "cell_type": "code",
   "execution_count": 1,
   "metadata": {},
   "outputs": [],
   "source": [
    "import sqlite3\n",
    "\n",
    "\n"
   ]
  },
  {
   "cell_type": "markdown",
   "metadata": {},
   "source": [
    "01) Write a sql query to get books that has rate >=3 and has 'Mr' in its name."
   ]
  },
  {
   "cell_type": "code",
   "execution_count": 41,
   "metadata": {},
   "outputs": [],
   "source": [
    "con = sqlite3.connect('database.db')\n",
    "sql = 'select * from books where rate >= 3 and name like \"%Mr%\"'\n",
    "row = con.execute(sql).fetchall()\n",
    "con.close()\n"
   ]
  },
  {
   "cell_type": "markdown",
   "metadata": {},
   "source": [
    "02) Write a sql query to get books that has rate >=3 or price > 20."
   ]
  },
  {
   "cell_type": "code",
   "execution_count": 42,
   "metadata": {},
   "outputs": [],
   "source": [
    "con = sqlite3.connect('database.db')\n",
    "sql = 'select * from books where rate >= 3 and price > 20'\n",
    "row = con.execute(sql).fetchall()\n",
    "con.close()\n"
   ]
  },
  {
   "cell_type": "markdown",
   "metadata": {},
   "source": [
    "03) Write a sql query to get books that has rate not 3."
   ]
  },
  {
   "cell_type": "code",
   "execution_count": 43,
   "metadata": {},
   "outputs": [],
   "source": [
    "con = sqlite3.connect('database.db')\n",
    "sql = 'select * from books where rate <> 3'\n",
    "row = con.execute(sql).fetchall()\n",
    "con.close()\n"
   ]
  },
  {
   "cell_type": "markdown",
   "metadata": {},
   "source": [
    "04) Write a sql query to get books that has price between 10 and 40 and has rate 3 or 4 or 1."
   ]
  },
  {
   "cell_type": "code",
   "execution_count": 44,
   "metadata": {},
   "outputs": [],
   "source": [
    "con = sqlite3.connect('database.db')\n",
    "sql = 'select * from books where (price BETWEEN 10 and 40) and (rate in (1,3,4))'\n",
    "row = con.execute(sql).fetchall()\n",
    "con.close()\n"
   ]
  },
  {
   "cell_type": "markdown",
   "metadata": {},
   "source": [
    "05) Write a sql query to get the top 5 most expensive books (order books desc with price column and then limit the result to the first 5)."
   ]
  },
  {
   "cell_type": "code",
   "execution_count": 45,
   "metadata": {},
   "outputs": [],
   "source": [
    "con = sqlite3.connect('database.db')\n",
    "sql = 'select price from books ORDER by price DESC LIMIT 5'\n",
    "row = con.execute(sql).fetchall()\n",
    "con.close()\n"
   ]
  },
  {
   "cell_type": "markdown",
   "metadata": {},
   "source": [
    "06) Write a sql query to get the 3rd 10 books in the books table order first by rate desc and then by price asc."
   ]
  },
  {
   "cell_type": "code",
   "execution_count": 46,
   "metadata": {},
   "outputs": [],
   "source": [
    "con = sqlite3.connect('database.db')\n",
    "sql = 'select * from books ORDER by price ASC, rate DESC'\n",
    "row = con.execute(sql).fetchall()\n",
    "con.close()\n"
   ]
  },
  {
   "cell_type": "markdown",
   "metadata": {},
   "source": [
    "07) Write a sql query to add a new category in categories table and add 5 books to this category in books table with title, rate and price."
   ]
  },
  {
   "cell_type": "code",
   "execution_count": 33,
   "metadata": {},
   "outputs": [],
   "source": [
    "# add new category \n",
    "con = sqlite3.connect('database.db')\n",
    "sql = 'insert into categories (catName) values (\"child\")'\n",
    "con.execute(sql)\n",
    "con.commit()\n",
    "con.close()\n",
    "\n",
    "# insert 5 new books in this new category\n",
    "Mylist = [\n",
    "    ['lion Story',30.2,2,'child'],\n",
    "    ['cat Story',40.2,5,'child'],\n",
    "    ['dog Story',50.2,3,'child'],\n",
    "    ['monkey Story',55.1,2,'child'],\n",
    "    ['donkey Story',36.1,1,'child'],\n",
    "]\n",
    "\n",
    "con = sqlite3.connect('database.db')\n",
    "for book in Mylist:\n",
    "    sql = \"insert into Books (name,price,rate,catName) VALUES (?,?,?,?)\"\n",
    "    con.execute(sql,book)\n",
    "\n",
    "con.commit()\n",
    "con.close()\n",
    "\n",
    "\n"
   ]
  },
  {
   "cell_type": "markdown",
   "metadata": {},
   "source": [
    "08) Write a sql query to update book's rate to 3 that thier price < 20£."
   ]
  },
  {
   "cell_type": "code",
   "execution_count": null,
   "metadata": {},
   "outputs": [],
   "source": [
    "con = sqlite3.connect('database.db')\n",
    "sql = 'UPDATE Books set rate = 3 where price < 20'\n",
    "row = con.execute(sql)\n",
    "con.commit()\n",
    "con.close()\n"
   ]
  },
  {
   "cell_type": "markdown",
   "metadata": {},
   "source": [
    "09) Write a sql query to delete all books that have price > 50£ and has rate <= 2."
   ]
  },
  {
   "cell_type": "code",
   "execution_count": null,
   "metadata": {},
   "outputs": [],
   "source": [
    "con = sqlite3.connect('database.db')\n",
    "sql = 'DELETE from books where price > 50 and rate <=2'\n",
    "row = con.execute(sql)\n",
    "con.close()\n",
    "row"
   ]
  },
  {
   "cell_type": "markdown",
   "metadata": {},
   "source": [
    "10) Write a sql query to count the number of books that have 'Secret' in thier names and price between 10£ and 25£."
   ]
  },
  {
   "cell_type": "code",
   "execution_count": 48,
   "metadata": {},
   "outputs": [
    {
     "data": {
      "text/plain": [
       "[(2,)]"
      ]
     },
     "execution_count": 48,
     "metadata": {},
     "output_type": "execute_result"
    }
   ],
   "source": [
    "con = sqlite3.connect('database.db')\n",
    "sql = 'select count(name) from books where name like \"%Secret%\" and price BETWEEN 10 and 20'\n",
    "row = con.execute(sql).fetchall()\n",
    "con.close()\n",
    "row"
   ]
  },
  {
   "cell_type": "markdown",
   "metadata": {},
   "source": [
    "11) Write a sql query to get the minimum & maximum price for all the books that have rate 5."
   ]
  },
  {
   "cell_type": "code",
   "execution_count": 51,
   "metadata": {},
   "outputs": [],
   "source": [
    "con = sqlite3.connect('database.db')\n",
    "sql = 'select min(price) as minPrice, max(price) as maxPrice, catName from books where rate = 5 GROUP by catName'\n",
    "row = con.execute(sql).fetchall()\n",
    "con.close()\n"
   ]
  },
  {
   "cell_type": "markdown",
   "metadata": {},
   "source": [
    "12) Write a sql query to calculate the avg price for all the books that have rate 5."
   ]
  },
  {
   "cell_type": "code",
   "execution_count": 53,
   "metadata": {},
   "outputs": [
    {
     "data": {
      "text/plain": [
       "[(41.044516129032274,)]"
      ]
     },
     "execution_count": 53,
     "metadata": {},
     "output_type": "execute_result"
    }
   ],
   "source": [
    "con = sqlite3.connect('database.db')\n",
    "sql = 'select AVG(price) from Books where rate = 5'\n",
    "row = con.execute(sql).fetchall()\n",
    "con.close()\n",
    "row"
   ]
  },
  {
   "cell_type": "markdown",
   "metadata": {},
   "source": [
    "13) Write a sql query to sum all book's price that have rate 2 and price between 10 and 40"
   ]
  },
  {
   "cell_type": "code",
   "execution_count": 54,
   "metadata": {},
   "outputs": [
    {
     "data": {
      "text/plain": [
       "[(2802.949999999999,)]"
      ]
     },
     "execution_count": 54,
     "metadata": {},
     "output_type": "execute_result"
    }
   ],
   "source": [
    "con = sqlite3.connect('database.db')\n",
    "sql = 'select sum(price) from books where rate = 2 and (price BETWEEN 10 and 40)'\n",
    "row = con.execute(sql).fetchall()\n",
    "con.close()\n",
    "row"
   ]
  },
  {
   "cell_type": "markdown",
   "metadata": {},
   "source": [
    "14) Write a sql query to join both books & categories table into one new table containing book_name & category_name & book_rate and book_price."
   ]
  },
  {
   "cell_type": "code",
   "execution_count": 55,
   "metadata": {},
   "outputs": [],
   "source": [
    "con = sqlite3.connect('database.db')\n",
    "sql = 'SELECT Books.name , Categories.catName , books.price, books.rate from books INNER join Categories on Categories.catName = Books.catName'\n",
    "row = con.execute(sql).fetchall()\n",
    "con.close()\n"
   ]
  },
  {
   "cell_type": "markdown",
   "metadata": {},
   "source": [
    "15) Write a sql query to calculate how many books each rate has and have price between 20£ and 30£."
   ]
  },
  {
   "cell_type": "code",
   "execution_count": null,
   "metadata": {},
   "outputs": [],
   "source": []
  },
  {
   "cell_type": "markdown",
   "metadata": {},
   "source": [
    "16) Write a sql query to calculate how many books each category has having count > 10."
   ]
  },
  {
   "cell_type": "code",
   "execution_count": 58,
   "metadata": {},
   "outputs": [],
   "source": [
    "con = sqlite3.connect('database.db')\n",
    "sql = 'select count(catName) as number from books  GROUP by catName HAVING count(catName)>10'\n",
    "row = con.execute(sql).fetchall()\n",
    "con.close()"
   ]
  },
  {
   "cell_type": "markdown",
   "metadata": {},
   "source": [
    "17) Write a sql query to get all books with category_name='Music' using subquery."
   ]
  },
  {
   "cell_type": "code",
   "execution_count": null,
   "metadata": {},
   "outputs": [],
   "source": [
    "con = sqlite3.connect('database.db')\n",
    "sql = 'select * from books where catName = (SELECT catName from Categories where catName= \"Music\")'\n",
    "row = con.execute(sql).fetchall()\n",
    "con.close()"
   ]
  },
  {
   "cell_type": "code",
   "execution_count": null,
   "metadata": {},
   "outputs": [],
   "source": []
  },
  {
   "cell_type": "code",
   "execution_count": null,
   "metadata": {},
   "outputs": [],
   "source": []
  }
 ],
 "metadata": {
  "interpreter": {
   "hash": "dc28719d87756f064e9d65e11a403c8f0db464efd549554778e677e6a00d2981"
  },
  "kernelspec": {
   "display_name": "Python 3.8.8 64-bit ('base': conda)",
   "language": "python",
   "name": "python3"
  },
  "language_info": {
   "codemirror_mode": {
    "name": "ipython",
    "version": 3
   },
   "file_extension": ".py",
   "mimetype": "text/x-python",
   "name": "python",
   "nbconvert_exporter": "python",
   "pygments_lexer": "ipython3",
   "version": "3.8.8"
  },
  "orig_nbformat": 4
 },
 "nbformat": 4,
 "nbformat_minor": 2
}
